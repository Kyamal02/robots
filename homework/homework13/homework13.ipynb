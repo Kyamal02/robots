{
 "cells": [
  {
   "cell_type": "code",
   "execution_count": null,
   "outputs": [],
   "source": [
    "import numpy as np\n",
    "import cv2\n",
    "import sys\n",
    "from matplotlib import pyplot as plt\n",
    "\n",
    "vid = cv2.VideoCapture(0)\n",
    "img = cv2.imread('pict/lady.jpeg')\n",
    "myVid = cv2.VideoCapture('pict/video-lady.mov')\n",
    "\n",
    "success, imgVideo = myVid.read()\n",
    "h,w,c = img.shape\n",
    "imgVideo = cv2.resize(imgVideo,(w,h))\n",
    "\n",
    "orb = cv2.ORB_create(nfeatures = 1000)\n",
    "keypoint1, descriptor1 = orb.detectAndCompute(img, None)\n",
    "\n",
    "while True:\n",
    "    success,imgWebCam = vid.read()\n",
    "#     ret, frame = vid.read()\n",
    "#     writer.write(frame)\n",
    "    ###\n",
    "#     imgWebCam = cv2.resize(imgVideo,(w,h))\n",
    "    keypoint2, descriptor2 = orb.detectAndCompute(imgWebCam, None)\n",
    "    # imgWebCam = cv2.drawKeypoints(imgWebCam, keypoint2, None)\n",
    "\n",
    "\n",
    "    bf = cv2.BFMatcher()\n",
    "    print(bf)\n",
    "    matches = bf.knnMatch(descriptor1, descriptor2, k = 2)\n",
    "    good = []\n",
    "    for m,n in matches:\n",
    "        if m.distance < 0.75 * n.distance:\n",
    "            good.append(m)\n",
    "    print(len(good))\n",
    "    imgFeatures = cv2.drawMatches(img, keypoint1, imgWebCam, keypoint2, good, None, flags = 2 )\n",
    "\n",
    "    plt.imshow(imgFeatures)\n",
    "    plt.figure(figsize=(15,15))\n",
    "    plt.show()\n",
    "\n",
    "    cv2.imshow('Features', imgFeatures)\n",
    "#     cv2.imshow('ImgTarget', img)\n",
    "#     cv2.imshow('WebCam', imgWebCam)\n",
    "#     cv2.imshow('Video', imgVideo)\n",
    "    if cv2.waitKey(0) & 0xFF == ord('q'):\n",
    "            break\n",
    "    cv2.waitKey(0)\n",
    "    cv2.destroyAllWindows()\n",
    "\n",
    "\n",
    "cv2.imshow('ImgTarget', img)\n",
    "cv2.imshow('webCamVideo', imgVideo)\n",
    "cv2.waitKey(0)\n",
    "cv2.destroyAllWindows()"
   ],
   "metadata": {
    "collapsed": false
   }
  },
  {
   "cell_type": "code",
   "execution_count": null,
   "id": "e27301a9",
   "metadata": {},
   "outputs": [],
   "source": []
  },
  {
   "cell_type": "code",
   "execution_count": 3,
   "id": "611e85c9",
   "metadata": {},
   "outputs": [
    {
     "ename": "AttributeError",
     "evalue": "'NoneType' object has no attribute 'shape'",
     "output_type": "error",
     "traceback": [
      "\u001B[1;31m---------------------------------------------------------------------------\u001B[0m",
      "\u001B[1;31mAttributeError\u001B[0m                            Traceback (most recent call last)",
      "Cell \u001B[1;32mIn [3], line 12\u001B[0m\n\u001B[0;32m      9\u001B[0m frameCounter \u001B[38;5;241m=\u001B[39m \u001B[38;5;241m0\u001B[39m\n\u001B[0;32m     11\u001B[0m success, imgVideo \u001B[38;5;241m=\u001B[39m myVid\u001B[38;5;241m.\u001B[39mread()\n\u001B[1;32m---> 12\u001B[0m h,w,c \u001B[38;5;241m=\u001B[39m imgTarget\u001B[38;5;241m.\u001B[39mshape\n\u001B[0;32m     13\u001B[0m imgVideo \u001B[38;5;241m=\u001B[39m cv2\u001B[38;5;241m.\u001B[39mresize(imgVideo,(w,h))\n\u001B[0;32m     15\u001B[0m orb \u001B[38;5;241m=\u001B[39m cv2\u001B[38;5;241m.\u001B[39mORB_create(nfeatures\u001B[38;5;241m=\u001B[39m\u001B[38;5;241m1000\u001B[39m)\n",
      "\u001B[1;31mAttributeError\u001B[0m: 'NoneType' object has no attribute 'shape'"
     ]
    }
   ],
   "source": []
  },
  {
   "cell_type": "code",
   "execution_count": null,
   "id": "0c5ddc3f",
   "metadata": {},
   "outputs": [],
   "source": []
  }
 ],
 "metadata": {
  "kernelspec": {
   "display_name": "Python 3 (ipykernel)",
   "language": "python",
   "name": "python3"
  },
  "language_info": {
   "codemirror_mode": {
    "name": "ipython",
    "version": 3
   },
   "file_extension": ".py",
   "mimetype": "text/x-python",
   "name": "python",
   "nbconvert_exporter": "python",
   "pygments_lexer": "ipython3",
   "version": "3.9.12"
  }
 },
 "nbformat": 4,
 "nbformat_minor": 5
}
